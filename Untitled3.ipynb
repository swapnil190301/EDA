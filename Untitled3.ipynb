{
  "cells": [
    {
      "cell_type": "markdown",
      "metadata": {
        "id": "view-in-github",
        "colab_type": "text"
      },
      "source": [
        "<a href=\"https://colab.research.google.com/github/swapnil190301/EDA/blob/main/Untitled3.ipynb\" target=\"_parent\"><img src=\"https://colab.research.google.com/assets/colab-badge.svg\" alt=\"Open In Colab\"/></a>"
      ]
    },
    {
      "cell_type": "code",
      "execution_count": 30,
      "metadata": {
        "id": "X_37vwusflCk"
      },
      "outputs": [],
      "source": [
        "import numpy as np\n",
        "import pandas as pd\n",
        "import seaborn as sns\n",
        "pd.set_option(\"display.precision\", 2)"
      ]
    },
    {
      "cell_type": "code",
      "execution_count": 31,
      "metadata": {
        "colab": {
          "base_uri": "https://localhost:8080/",
          "height": 478
        },
        "id": "LO7sOn8sgF_H",
        "outputId": "937a8ccf-618c-461f-ea16-f1c4fc1b712f"
      },
      "outputs": [
        {
          "output_type": "execute_result",
          "data": {
            "text/plain": [
              "  Make       Model  Year             Engine Fuel Type  Engine HP  \\\n",
              "0  BMW  1 Series M  2011  premium unleaded (required)      335.0   \n",
              "1  BMW    1 Series  2011  premium unleaded (required)      300.0   \n",
              "2  BMW    1 Series  2011  premium unleaded (required)      300.0   \n",
              "3  BMW    1 Series  2011  premium unleaded (required)      230.0   \n",
              "4  BMW    1 Series  2011  premium unleaded (required)      230.0   \n",
              "\n",
              "   Engine Cylinders Transmission Type     Driven_Wheels  Number of Doors  \\\n",
              "0               6.0            MANUAL  rear wheel drive              2.0   \n",
              "1               6.0            MANUAL  rear wheel drive              2.0   \n",
              "2               6.0            MANUAL  rear wheel drive              2.0   \n",
              "3               6.0            MANUAL  rear wheel drive              2.0   \n",
              "4               6.0            MANUAL  rear wheel drive              2.0   \n",
              "\n",
              "                         Market Category Vehicle Size Vehicle Style  \\\n",
              "0  Factory Tuner,Luxury,High-Performance      Compact         Coupe   \n",
              "1                     Luxury,Performance      Compact   Convertible   \n",
              "2                Luxury,High-Performance      Compact         Coupe   \n",
              "3                     Luxury,Performance      Compact         Coupe   \n",
              "4                                 Luxury      Compact   Convertible   \n",
              "\n",
              "   highway MPG  city mpg  Popularity   MSRP  \n",
              "0           26        19        3916  46135  \n",
              "1           28        19        3916  40650  \n",
              "2           28        20        3916  36350  \n",
              "3           28        18        3916  29450  \n",
              "4           28        18        3916  34500  "
            ],
            "text/html": [
              "\n",
              "  <div id=\"df-301fdc57-e8b3-4bd3-b8cf-63ed9300aeb3\">\n",
              "    <div class=\"colab-df-container\">\n",
              "      <div>\n",
              "<style scoped>\n",
              "    .dataframe tbody tr th:only-of-type {\n",
              "        vertical-align: middle;\n",
              "    }\n",
              "\n",
              "    .dataframe tbody tr th {\n",
              "        vertical-align: top;\n",
              "    }\n",
              "\n",
              "    .dataframe thead th {\n",
              "        text-align: right;\n",
              "    }\n",
              "</style>\n",
              "<table border=\"1\" class=\"dataframe\">\n",
              "  <thead>\n",
              "    <tr style=\"text-align: right;\">\n",
              "      <th></th>\n",
              "      <th>Make</th>\n",
              "      <th>Model</th>\n",
              "      <th>Year</th>\n",
              "      <th>Engine Fuel Type</th>\n",
              "      <th>Engine HP</th>\n",
              "      <th>Engine Cylinders</th>\n",
              "      <th>Transmission Type</th>\n",
              "      <th>Driven_Wheels</th>\n",
              "      <th>Number of Doors</th>\n",
              "      <th>Market Category</th>\n",
              "      <th>Vehicle Size</th>\n",
              "      <th>Vehicle Style</th>\n",
              "      <th>highway MPG</th>\n",
              "      <th>city mpg</th>\n",
              "      <th>Popularity</th>\n",
              "      <th>MSRP</th>\n",
              "    </tr>\n",
              "  </thead>\n",
              "  <tbody>\n",
              "    <tr>\n",
              "      <th>0</th>\n",
              "      <td>BMW</td>\n",
              "      <td>1 Series M</td>\n",
              "      <td>2011</td>\n",
              "      <td>premium unleaded (required)</td>\n",
              "      <td>335.0</td>\n",
              "      <td>6.0</td>\n",
              "      <td>MANUAL</td>\n",
              "      <td>rear wheel drive</td>\n",
              "      <td>2.0</td>\n",
              "      <td>Factory Tuner,Luxury,High-Performance</td>\n",
              "      <td>Compact</td>\n",
              "      <td>Coupe</td>\n",
              "      <td>26</td>\n",
              "      <td>19</td>\n",
              "      <td>3916</td>\n",
              "      <td>46135</td>\n",
              "    </tr>\n",
              "    <tr>\n",
              "      <th>1</th>\n",
              "      <td>BMW</td>\n",
              "      <td>1 Series</td>\n",
              "      <td>2011</td>\n",
              "      <td>premium unleaded (required)</td>\n",
              "      <td>300.0</td>\n",
              "      <td>6.0</td>\n",
              "      <td>MANUAL</td>\n",
              "      <td>rear wheel drive</td>\n",
              "      <td>2.0</td>\n",
              "      <td>Luxury,Performance</td>\n",
              "      <td>Compact</td>\n",
              "      <td>Convertible</td>\n",
              "      <td>28</td>\n",
              "      <td>19</td>\n",
              "      <td>3916</td>\n",
              "      <td>40650</td>\n",
              "    </tr>\n",
              "    <tr>\n",
              "      <th>2</th>\n",
              "      <td>BMW</td>\n",
              "      <td>1 Series</td>\n",
              "      <td>2011</td>\n",
              "      <td>premium unleaded (required)</td>\n",
              "      <td>300.0</td>\n",
              "      <td>6.0</td>\n",
              "      <td>MANUAL</td>\n",
              "      <td>rear wheel drive</td>\n",
              "      <td>2.0</td>\n",
              "      <td>Luxury,High-Performance</td>\n",
              "      <td>Compact</td>\n",
              "      <td>Coupe</td>\n",
              "      <td>28</td>\n",
              "      <td>20</td>\n",
              "      <td>3916</td>\n",
              "      <td>36350</td>\n",
              "    </tr>\n",
              "    <tr>\n",
              "      <th>3</th>\n",
              "      <td>BMW</td>\n",
              "      <td>1 Series</td>\n",
              "      <td>2011</td>\n",
              "      <td>premium unleaded (required)</td>\n",
              "      <td>230.0</td>\n",
              "      <td>6.0</td>\n",
              "      <td>MANUAL</td>\n",
              "      <td>rear wheel drive</td>\n",
              "      <td>2.0</td>\n",
              "      <td>Luxury,Performance</td>\n",
              "      <td>Compact</td>\n",
              "      <td>Coupe</td>\n",
              "      <td>28</td>\n",
              "      <td>18</td>\n",
              "      <td>3916</td>\n",
              "      <td>29450</td>\n",
              "    </tr>\n",
              "    <tr>\n",
              "      <th>4</th>\n",
              "      <td>BMW</td>\n",
              "      <td>1 Series</td>\n",
              "      <td>2011</td>\n",
              "      <td>premium unleaded (required)</td>\n",
              "      <td>230.0</td>\n",
              "      <td>6.0</td>\n",
              "      <td>MANUAL</td>\n",
              "      <td>rear wheel drive</td>\n",
              "      <td>2.0</td>\n",
              "      <td>Luxury</td>\n",
              "      <td>Compact</td>\n",
              "      <td>Convertible</td>\n",
              "      <td>28</td>\n",
              "      <td>18</td>\n",
              "      <td>3916</td>\n",
              "      <td>34500</td>\n",
              "    </tr>\n",
              "  </tbody>\n",
              "</table>\n",
              "</div>\n",
              "      <button class=\"colab-df-convert\" onclick=\"convertToInteractive('df-301fdc57-e8b3-4bd3-b8cf-63ed9300aeb3')\"\n",
              "              title=\"Convert this dataframe to an interactive table.\"\n",
              "              style=\"display:none;\">\n",
              "        \n",
              "  <svg xmlns=\"http://www.w3.org/2000/svg\" height=\"24px\"viewBox=\"0 0 24 24\"\n",
              "       width=\"24px\">\n",
              "    <path d=\"M0 0h24v24H0V0z\" fill=\"none\"/>\n",
              "    <path d=\"M18.56 5.44l.94 2.06.94-2.06 2.06-.94-2.06-.94-.94-2.06-.94 2.06-2.06.94zm-11 1L8.5 8.5l.94-2.06 2.06-.94-2.06-.94L8.5 2.5l-.94 2.06-2.06.94zm10 10l.94 2.06.94-2.06 2.06-.94-2.06-.94-.94-2.06-.94 2.06-2.06.94z\"/><path d=\"M17.41 7.96l-1.37-1.37c-.4-.4-.92-.59-1.43-.59-.52 0-1.04.2-1.43.59L10.3 9.45l-7.72 7.72c-.78.78-.78 2.05 0 2.83L4 21.41c.39.39.9.59 1.41.59.51 0 1.02-.2 1.41-.59l7.78-7.78 2.81-2.81c.8-.78.8-2.07 0-2.86zM5.41 20L4 18.59l7.72-7.72 1.47 1.35L5.41 20z\"/>\n",
              "  </svg>\n",
              "      </button>\n",
              "      \n",
              "  <style>\n",
              "    .colab-df-container {\n",
              "      display:flex;\n",
              "      flex-wrap:wrap;\n",
              "      gap: 12px;\n",
              "    }\n",
              "\n",
              "    .colab-df-convert {\n",
              "      background-color: #E8F0FE;\n",
              "      border: none;\n",
              "      border-radius: 50%;\n",
              "      cursor: pointer;\n",
              "      display: none;\n",
              "      fill: #1967D2;\n",
              "      height: 32px;\n",
              "      padding: 0 0 0 0;\n",
              "      width: 32px;\n",
              "    }\n",
              "\n",
              "    .colab-df-convert:hover {\n",
              "      background-color: #E2EBFA;\n",
              "      box-shadow: 0px 1px 2px rgba(60, 64, 67, 0.3), 0px 1px 3px 1px rgba(60, 64, 67, 0.15);\n",
              "      fill: #174EA6;\n",
              "    }\n",
              "\n",
              "    [theme=dark] .colab-df-convert {\n",
              "      background-color: #3B4455;\n",
              "      fill: #D2E3FC;\n",
              "    }\n",
              "\n",
              "    [theme=dark] .colab-df-convert:hover {\n",
              "      background-color: #434B5C;\n",
              "      box-shadow: 0px 1px 3px 1px rgba(0, 0, 0, 0.15);\n",
              "      filter: drop-shadow(0px 1px 2px rgba(0, 0, 0, 0.3));\n",
              "      fill: #FFFFFF;\n",
              "    }\n",
              "  </style>\n",
              "\n",
              "      <script>\n",
              "        const buttonEl =\n",
              "          document.querySelector('#df-301fdc57-e8b3-4bd3-b8cf-63ed9300aeb3 button.colab-df-convert');\n",
              "        buttonEl.style.display =\n",
              "          google.colab.kernel.accessAllowed ? 'block' : 'none';\n",
              "\n",
              "        async function convertToInteractive(key) {\n",
              "          const element = document.querySelector('#df-301fdc57-e8b3-4bd3-b8cf-63ed9300aeb3');\n",
              "          const dataTable =\n",
              "            await google.colab.kernel.invokeFunction('convertToInteractive',\n",
              "                                                     [key], {});\n",
              "          if (!dataTable) return;\n",
              "\n",
              "          const docLinkHtml = 'Like what you see? Visit the ' +\n",
              "            '<a target=\"_blank\" href=https://colab.research.google.com/notebooks/data_table.ipynb>data table notebook</a>'\n",
              "            + ' to learn more about interactive tables.';\n",
              "          element.innerHTML = '';\n",
              "          dataTable['output_type'] = 'display_data';\n",
              "          await google.colab.output.renderOutput(dataTable, element);\n",
              "          const docLink = document.createElement('div');\n",
              "          docLink.innerHTML = docLinkHtml;\n",
              "          element.appendChild(docLink);\n",
              "        }\n",
              "      </script>\n",
              "    </div>\n",
              "  </div>\n",
              "  "
            ]
          },
          "metadata": {},
          "execution_count": 31
        }
      ],
      "source": [
        "df = pd.read_csv(\"/content/data.csv\")\n",
        "df.head()"
      ]
    },
    {
      "cell_type": "code",
      "execution_count": 32,
      "metadata": {
        "colab": {
          "base_uri": "https://localhost:8080/"
        },
        "id": "_Byml-YkkzwY",
        "outputId": "fe446faa-0d3e-44ba-a99f-314fd7452b78"
      },
      "outputs": [
        {
          "output_type": "execute_result",
          "data": {
            "text/plain": [
              "AUTOMATIC           8266\n",
              "MANUAL              2935\n",
              "AUTOMATED_MANUAL     626\n",
              "DIRECT_DRIVE          68\n",
              "UNKNOWN               19\n",
              "Name: Transmission Type, dtype: int64"
            ]
          },
          "metadata": {},
          "execution_count": 32
        }
      ],
      "source": [
        "df[\"Transmission Type\"].value_counts()"
      ]
    },
    {
      "cell_type": "code",
      "execution_count": 33,
      "metadata": {
        "colab": {
          "base_uri": "https://localhost:8080/"
        },
        "id": "QSo8MyTYgNaK",
        "outputId": "950f2057-5b6a-454e-b1dc-c3d3c5bff8b3"
      },
      "outputs": [
        {
          "output_type": "stream",
          "name": "stdout",
          "text": [
            "1382750\n",
            "440000\n",
            "2065902\n",
            "134500\n",
            "9567\n"
          ]
        }
      ],
      "source": [
        "print(df[df[\"Transmission Type\"] == \"AUTOMATIC\"][\"MSRP\"].max())\n",
        "print(df[df[\"Transmission Type\"] == \"MANUAL\"][\"MSRP\"].max())\n",
        "print(df[df[\"Transmission Type\"] == \"AUTOMATED_MANUAL\"][\"MSRP\"].max())\n",
        "print(df[df[\"Transmission Type\"] == \"DIRECT_DRIVE\"][\"MSRP\"].max())\n",
        "print(df[df[\"Transmission Type\"] == \"UNKNOWN\"][\"MSRP\"].max())"
      ]
    },
    {
      "cell_type": "code",
      "source": [
        "x=[\"A\", \"M\", \"AM\", \"D\", \"U\"]\n",
        "y=[df[df[\"Transmission Type\"] == \"AUTOMATIC\"][\"MSRP\"].max(), df[df[\"Transmission Type\"] == \"MANUAL\"][\"MSRP\"].max(), df[df[\"Transmission Type\"] == \"AUTOMATED_MANUAL\"][\"MSRP\"].max(), df[df[\"Transmission Type\"] == \"DIRECT_DRIVE\"][\"MSRP\"].max(), df[df[\"Transmission Type\"] == \"UNKNOWN\"][\"MSRP\"].max()]\n",
        "sns.lineplot(x, y);"
      ],
      "metadata": {
        "colab": {
          "base_uri": "https://localhost:8080/",
          "height": 331
        },
        "id": "QVpN__RPMDMY",
        "outputId": "d931cf3d-44cd-48fb-d241-068a212b1992"
      },
      "execution_count": 34,
      "outputs": [
        {
          "output_type": "stream",
          "name": "stderr",
          "text": [
            "/usr/local/lib/python3.7/dist-packages/seaborn/_decorators.py:43: FutureWarning: Pass the following variables as keyword args: x, y. From version 0.12, the only valid positional argument will be `data`, and passing other arguments without an explicit keyword will result in an error or misinterpretation.\n",
            "  FutureWarning\n"
          ]
        },
        {
          "output_type": "display_data",
          "data": {
            "text/plain": [
              "<Figure size 432x288 with 1 Axes>"
            ],
            "image/png": "[encoded data removed]"
          },
          "metadata": {
            "needs_background": "light"
          }
        }
      ]
    },
    {
      "cell_type": "code",
      "execution_count": 35,
      "metadata": {
        "colab": {
          "base_uri": "https://localhost:8080/"
        },
        "id": "aSKueWrxk93G",
        "outputId": "9681b364-f12b-43a4-808f-7854e3164909"
      },
      "outputs": [
        {
          "output_type": "stream",
          "name": "stdout",
          "text": [
            "41110.331720300026\n",
            "26663.64429301533\n",
            "99508.37060702876\n",
            "47351.25\n",
            "3040.7368421052633\n"
          ]
        }
      ],
      "source": [
        "print(df[df[\"Transmission Type\"] == \"AUTOMATIC\"][\"MSRP\"].mean())\n",
        "print(df[df[\"Transmission Type\"] == \"MANUAL\"][\"MSRP\"].mean())\n",
        "print(df[df[\"Transmission Type\"] == \"AUTOMATED_MANUAL\"][\"MSRP\"].mean())\n",
        "print(df[df[\"Transmission Type\"] == \"DIRECT_DRIVE\"][\"MSRP\"].mean())\n",
        "print(df[df[\"Transmission Type\"] == \"UNKNOWN\"][\"MSRP\"].mean())"
      ]
    },
    {
      "cell_type": "code",
      "execution_count": 36,
      "metadata": {
        "colab": {
          "base_uri": "https://localhost:8080/",
          "height": 320
        },
        "id": "Ue4FAWfpoVwd",
        "outputId": "cd2f6e30-d55c-423b-f87f-039a3aee5a2c"
      },
      "outputs": [
        {
          "output_type": "stream",
          "name": "stderr",
          "text": [
            "/usr/local/lib/python3.7/dist-packages/seaborn/_decorators.py:43: FutureWarning: Pass the following variables as keyword args: x, y. From version 0.12, the only valid positional argument will be `data`, and passing other arguments without an explicit keyword will result in an error or misinterpretation.\n",
            "  FutureWarning\n"
          ]
        },
        {
          "output_type": "display_data",
          "data": {
            "text/plain": [
              "<Figure size 432x288 with 1 Axes>"
            ],
            "image/png": "[encoded data removed]"
          },
          "metadata": {
            "needs_background": "light"
          }
        }
      ],
      "source": [
        "x=[\"A\", \"M\", \"AM\", \"D\", \"U\"]\n",
        "y=[df[df[\"Transmission Type\"] == \"AUTOMATIC\"][\"MSRP\"].mean(), df[df[\"Transmission Type\"] == \"MANUAL\"][\"MSRP\"].mean(), df[df[\"Transmission Type\"] == \"AUTOMATED_MANUAL\"][\"MSRP\"].mean(), df[df[\"Transmission Type\"] == \"DIRECT_DRIVE\"][\"MSRP\"].mean(), df[df[\"Transmission Type\"] == \"UNKNOWN\"][\"MSRP\"].mean()]\n",
        "sns.lineplot(x, y);"
      ]
    },
    {
      "cell_type": "code",
      "source": [
        "print(df[df[\"Transmission Type\"] == \"AUTOMATIC\"][\"MSRP\"].median())\n",
        "print(df[df[\"Transmission Type\"] == \"MANUAL\"][\"MSRP\"].median())\n",
        "print(df[df[\"Transmission Type\"] == \"AUTOMATED_MANUAL\"][\"MSRP\"].median())\n",
        "print(df[df[\"Transmission Type\"] == \"DIRECT_DRIVE\"][\"MSRP\"].median())\n",
        "print(df[df[\"Transmission Type\"] == \"UNKNOWN\"][\"MSRP\"].median())"
      ],
      "metadata": {
        "colab": {
          "base_uri": "https://localhost:8080/"
        },
        "id": "cFwUR34LMjot",
        "outputId": "2c977351-ca43-41bc-8242-2431a24058ff"
      },
      "execution_count": 37,
      "outputs": [
        {
          "output_type": "stream",
          "name": "stdout",
          "text": [
            "32565.0\n",
            "18720.0\n",
            "38337.5\n",
            "35825.0\n",
            "2000.0\n"
          ]
        }
      ]
    },
    {
      "cell_type": "code",
      "source": [
        "x=[\"A\", \"M\", \"AM\", \"D\", \"U\"]\n",
        "y=[df[df[\"Transmission Type\"] == \"AUTOMATIC\"][\"MSRP\"].median(), df[df[\"Transmission Type\"] == \"MANUAL\"][\"MSRP\"].median(), df[df[\"Transmission Type\"] == \"AUTOMATED_MANUAL\"][\"MSRP\"].median(), df[df[\"Transmission Type\"] == \"DIRECT_DRIVE\"][\"MSRP\"].median(), df[df[\"Transmission Type\"] == \"UNKNOWN\"][\"MSRP\"].median()]\n",
        "sns.lineplot(x, y);"
      ],
      "metadata": {
        "colab": {
          "base_uri": "https://localhost:8080/",
          "height": 324
        },
        "id": "1fJQqiy-NLip",
        "outputId": "744c65fe-72e1-4de8-e5cc-a41713b84524"
      },
      "execution_count": 38,
      "outputs": [
        {
          "output_type": "stream",
          "name": "stderr",
          "text": [
            "/usr/local/lib/python3.7/dist-packages/seaborn/_decorators.py:43: FutureWarning: Pass the following variables as keyword args: x, y. From version 0.12, the only valid positional argument will be `data`, and passing other arguments without an explicit keyword will result in an error or misinterpretation.\n",
            "  FutureWarning\n"
          ]
        },
        {
          "output_type": "display_data",
          "data": {
            "text/plain": [
              "<Figure size 432x288 with 1 Axes>"
            ],
            "image/png": "[encoded data removed]"
          },
          "metadata": {
            "needs_background": "light"
          }
        }
      ]
    },
    {
      "cell_type": "code",
      "source": [
        "print(df[df[\"Transmission Type\"] == \"AUTOMATIC\"][\"MSRP\"].min())\n",
        "print(df[df[\"Transmission Type\"] == \"MANUAL\"][\"MSRP\"].min())\n",
        "print(df[df[\"Transmission Type\"] == \"AUTOMATED_MANUAL\"][\"MSRP\"].min())\n",
        "print(df[df[\"Transmission Type\"] == \"DIRECT_DRIVE\"][\"MSRP\"].min())\n",
        "print(df[df[\"Transmission Type\"] == \"UNKNOWN\"][\"MSRP\"].min())"
      ],
      "metadata": {
        "colab": {
          "base_uri": "https://localhost:8080/"
        },
        "id": "4IsZhIdclTsa",
        "outputId": "44521b12-db87-4a22-e234-205e6de2374e"
      },
      "execution_count": 39,
      "outputs": [
        {
          "output_type": "stream",
          "name": "stdout",
          "text": [
            "2000\n",
            "2000\n",
            "19050\n",
            "22995\n",
            "2000\n"
          ]
        }
      ]
    },
    {
      "cell_type": "code",
      "source": [
        "x=[\"A\", \"M\", \"AM\", \"D\", \"U\"]\n",
        "y=[df[df[\"Transmission Type\"] == \"AUTOMATIC\"][\"MSRP\"].min(), df[df[\"Transmission Type\"] == \"MANUAL\"][\"MSRP\"].min(), df[df[\"Transmission Type\"] == \"AUTOMATED_MANUAL\"][\"MSRP\"].min(), df[df[\"Transmission Type\"] == \"DIRECT_DRIVE\"][\"MSRP\"].min(), df[df[\"Transmission Type\"] == \"UNKNOWN\"][\"MSRP\"].min()]\n",
        "sns.lineplot(x, y);"
      ],
      "metadata": {
        "colab": {
          "base_uri": "https://localhost:8080/",
          "height": 320
        },
        "id": "P5pYXlKBnR3-",
        "outputId": "7f18d8fa-5b2d-49cb-d2e4-9f19baf91adb"
      },
      "execution_count": 40,
      "outputs": [
        {
          "output_type": "stream",
          "name": "stderr",
          "text": [
            "/usr/local/lib/python3.7/dist-packages/seaborn/_decorators.py:43: FutureWarning: Pass the following variables as keyword args: x, y. From version 0.12, the only valid positional argument will be `data`, and passing other arguments without an explicit keyword will result in an error or misinterpretation.\n",
            "  FutureWarning\n"
          ]
        },
        {
          "output_type": "display_data",
          "data": {
            "text/plain": [
              "<Figure size 432x288 with 1 Axes>"
            ],
            "image/png": "[encoded data removed]"
          },
          "metadata": {
            "needs_background": "light"
          }
        }
      ]
    },
    {
      "cell_type": "code",
      "source": [
        "print(df[df[\"Transmission Type\"] == \"AUTOMATIC\"][\"MSRP\"].var())\n",
        "print(df[df[\"Transmission Type\"] == \"MANUAL\"][\"MSRP\"].var())\n",
        "print(df[df[\"Transmission Type\"] == \"AUTOMATED_MANUAL\"][\"MSRP\"].var())\n",
        "print(df[df[\"Transmission Type\"] == \"DIRECT_DRIVE\"][\"MSRP\"].var())\n",
        "print(df[df[\"Transmission Type\"] == \"UNKNOWN\"][\"MSRP\"].var())"
      ],
      "metadata": {
        "colab": {
          "base_uri": "https://localhost:8080/"
        },
        "id": "IfiyAA55nyQU",
        "outputId": "4360b2c1-fccf-4ba0-de51-1a5bbf8ad715"
      },
      "execution_count": 41,
      "outputs": [
        {
          "output_type": "stream",
          "name": "stdout",
          "text": [
            "2292347266.186379\n",
            "1628348381.5782695\n",
            "26402197015.28963\n",
            "644438787.5932835\n",
            "5423346.315789473\n"
          ]
        }
      ]
    },
    {
      "cell_type": "code",
      "source": [
        "x=[\"A\", \"M\", \"AM\", \"D\", \"U\"]\n",
        "y=[df[df[\"Transmission Type\"] == \"AUTOMATIC\"][\"MSRP\"].var(), df[df[\"Transmission Type\"] == \"MANUAL\"][\"MSRP\"].var(), df[df[\"Transmission Type\"] == \"AUTOMATED_MANUAL\"][\"MSRP\"].var(), df[df[\"Transmission Type\"] == \"DIRECT_DRIVE\"][\"MSRP\"].var(), df[df[\"Transmission Type\"] == \"UNKNOWN\"][\"MSRP\"].var()]\n",
        "sns.lineplot(x, y);"
      ],
      "metadata": {
        "colab": {
          "base_uri": "https://localhost:8080/",
          "height": 331
        },
        "id": "26-zOAt4nucS",
        "outputId": "97ce820f-217d-4f94-cb87-05789333a61c"
      },
      "execution_count": 42,
      "outputs": [
        {
          "output_type": "stream",
          "name": "stderr",
          "text": [
            "/usr/local/lib/python3.7/dist-packages/seaborn/_decorators.py:43: FutureWarning: Pass the following variables as keyword args: x, y. From version 0.12, the only valid positional argument will be `data`, and passing other arguments without an explicit keyword will result in an error or misinterpretation.\n",
            "  FutureWarning\n"
          ]
        },
        {
          "output_type": "display_data",
          "data": {
            "text/plain": [
              "<Figure size 432x288 with 1 Axes>"
            ],
            "image/png": "[encoded data removed]"
          },
          "metadata": {
            "needs_background": "light"
          }
        }
      ]
    },
    {
      "cell_type": "code",
      "source": [
        "print(df[df[\"Transmission Type\"] == \"AUTOMATIC\"][\"MSRP\"].std())\n",
        "print(df[df[\"Transmission Type\"] == \"MANUAL\"][\"MSRP\"].std())\n",
        "print(df[df[\"Transmission Type\"] == \"AUTOMATED_MANUAL\"][\"MSRP\"].std())\n",
        "print(df[df[\"Transmission Type\"] == \"DIRECT_DRIVE\"][\"MSRP\"].std())\n",
        "print(df[df[\"Transmission Type\"] == \"UNKNOWN\"][\"MSRP\"].std())"
      ],
      "metadata": {
        "colab": {
          "base_uri": "https://localhost:8080/"
        },
        "id": "KbbGLieSopGR",
        "outputId": "61b34ffa-0d47-429d-b963-d52f940fd60b"
      },
      "execution_count": 43,
      "outputs": [
        {
          "output_type": "stream",
          "name": "stdout",
          "text": [
            "47878.4634902414\n",
            "40352.798931155565\n",
            "162487.5287992578\n",
            "25385.79893549312\n",
            "2328.807917323684\n"
          ]
        }
      ]
    },
    {
      "cell_type": "code",
      "source": [
        "x=[\"A\", \"M\", \"AM\", \"D\", \"U\"]\n",
        "y=[df[df[\"Transmission Type\"] == \"AUTOMATIC\"][\"MSRP\"].std(), df[df[\"Transmission Type\"] == \"MANUAL\"][\"MSRP\"].std(), df[df[\"Transmission Type\"] == \"AUTOMATED_MANUAL\"][\"MSRP\"].std(), df[df[\"Transmission Type\"] == \"DIRECT_DRIVE\"][\"MSRP\"].std(), df[df[\"Transmission Type\"] == \"UNKNOWN\"][\"MSRP\"].std()]\n",
        "sns.lineplot(x, y)"
      ],
      "metadata": {
        "colab": {
          "base_uri": "https://localhost:8080/",
          "height": 337
        },
        "id": "-LQkIOk5ow13",
        "outputId": "87d3b14e-372a-4d78-d0e1-1806cd1e8c24"
      },
      "execution_count": 44,
      "outputs": [
        {
          "output_type": "stream",
          "name": "stderr",
          "text": [
            "/usr/local/lib/python3.7/dist-packages/seaborn/_decorators.py:43: FutureWarning: Pass the following variables as keyword args: x, y. From version 0.12, the only valid positional argument will be `data`, and passing other arguments without an explicit keyword will result in an error or misinterpretation.\n",
            "  FutureWarning\n"
          ]
        },
        {
          "output_type": "execute_result",
          "data": {
            "text/plain": [
              "<matplotlib.axes._subplots.AxesSubplot at 0x7fd2a68c6110>"
            ]
          },
          "metadata": {},
          "execution_count": 44
        },
        {
          "output_type": "display_data",
          "data": {
            "text/plain": [
              "<Figure size 432x288 with 1 Axes>"
            ],
            "image/png": "[encoded data removed]"
          },
          "metadata": {
            "needs_background": "light"
          }
        }
      ]
    },
    {
      "cell_type": "code",
      "source": [
        "print(df[df[\"Transmission Type\"] == \"AUTOMATIC\"][\"MSRP\"].sum())\n",
        "print(df[df[\"Transmission Type\"] == \"MANUAL\"][\"MSRP\"].sum())\n",
        "print(df[df[\"Transmission Type\"] == \"AUTOMATED_MANUAL\"][\"MSRP\"].sum())\n",
        "print(df[df[\"Transmission Type\"] == \"DIRECT_DRIVE\"][\"MSRP\"].sum())\n",
        "print(df[df[\"Transmission Type\"] == \"UNKNOWN\"][\"MSRP\"].sum())"
      ],
      "metadata": {
        "colab": {
          "base_uri": "https://localhost:8080/"
        },
        "id": "0CqqKI1QqA2E",
        "outputId": "8a1898b9-6b8f-459d-a6bf-bd0593df4466"
      },
      "execution_count": 45,
      "outputs": [
        {
          "output_type": "stream",
          "name": "stdout",
          "text": [
            "339818002\n",
            "78257796\n",
            "62292240\n",
            "3219885\n",
            "57774\n"
          ]
        }
      ]
    },
    {
      "cell_type": "code",
      "source": [
        "x=[\"A\", \"M\", \"AM\", \"D\", \"U\"]\n",
        "y=[df[df[\"Transmission Type\"] == \"AUTOMATIC\"][\"MSRP\"].sum(), df[df[\"Transmission Type\"] == \"MANUAL\"][\"MSRP\"].sum(), df[df[\"Transmission Type\"] == \"AUTOMATED_MANUAL\"][\"MSRP\"].sum(), df[df[\"Transmission Type\"] == \"DIRECT_DRIVE\"][\"MSRP\"].sum(), df[df[\"Transmission Type\"] == \"UNKNOWN\"][\"MSRP\"].sum()]\n",
        "sns.lineplot(x, y)"
      ],
      "metadata": {
        "colab": {
          "base_uri": "https://localhost:8080/",
          "height": 348
        },
        "id": "AG72tZezqM33",
        "outputId": "b983bf89-d500-40ad-fd78-f56149978ace"
      },
      "execution_count": 46,
      "outputs": [
        {
          "output_type": "stream",
          "name": "stderr",
          "text": [
            "/usr/local/lib/python3.7/dist-packages/seaborn/_decorators.py:43: FutureWarning: Pass the following variables as keyword args: x, y. From version 0.12, the only valid positional argument will be `data`, and passing other arguments without an explicit keyword will result in an error or misinterpretation.\n",
            "  FutureWarning\n"
          ]
        },
        {
          "output_type": "execute_result",
          "data": {
            "text/plain": [
              "<matplotlib.axes._subplots.AxesSubplot at 0x7fd2a67c1190>"
            ]
          },
          "metadata": {},
          "execution_count": 46
        },
        {
          "output_type": "display_data",
          "data": {
            "text/plain": [
              "<Figure size 432x288 with 1 Axes>"
            ],
            "image/png": "[encoded data removed]"
          },
          "metadata": {
            "needs_background": "light"
          }
        }
      ]
    }
  ],
  "metadata": {
    "colab": {
      "provenance": [],
      "authorship_tag": "ABX9TyOPxf9IQNUok7cgzocVJoKp",
      "include_colab_link": true
    },
    "kernelspec": {
      "display_name": "Python 3",
      "name": "python3"
    },
    "language_info": {
      "name": "python"
    }
  },
  "nbformat": 4,
  "nbformat_minor": 0
}